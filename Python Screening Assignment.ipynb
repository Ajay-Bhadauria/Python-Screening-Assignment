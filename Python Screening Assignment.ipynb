{
 "cells": [
  {
   "cell_type": "markdown",
   "id": "6eac5cea",
   "metadata": {},
   "source": [
    "### 1. Create a function in python to read the text file and replace specific content of the file.\n",
    "\n",
    "##### File name:  example.txt\n",
    "##### Origin file content:  This is a placement assignment\n",
    "\n",
    "##### Replace string Placement should be replaced by screening.\n",
    "\n",
    "##### Replaced file content: This is a screening assignment"
   ]
  },
  {
   "cell_type": "code",
   "execution_count": 3,
   "id": "80c0340e",
   "metadata": {},
   "outputs": [],
   "source": [
    "def replace_text():\n",
    "    file = open(\"example.txt\", \"r\")#open the original file in read mode\n",
    "\n",
    "    replaced_content = \"\"  #creating a blank string\n",
    "    for line in file:\n",
    "        stripped_line = line.strip() #strips the lines in the original file\n",
    "        new_line = stripped_line.replace(\"placement\", \"screening\") #replace the word in each stripped line\n",
    "        replaced_content += new_line\n",
    "    file.close()\n",
    "\n",
    "    writing_file = open(\"example.txt\", \"w\") # open the file in write mode\n",
    "    writing_file.write(replaced_content)\n",
    "    writing_file.close()\n",
    "    \n",
    "replace_text()"
   ]
  },
  {
   "cell_type": "markdown",
   "id": "f16e9e9f",
   "metadata": {},
   "source": [
    "### Demonstrate use of abstract class, multiple inheritance and decorator in python using examples."
   ]
  },
  {
   "cell_type": "markdown",
   "id": "3b4ef61a",
   "metadata": {},
   "source": [
    "### Abstract class"
   ]
  },
  {
   "cell_type": "markdown",
   "id": "9a1908e6",
   "metadata": {},
   "source": [
    "In object-oriented programming, an abstract class is a class that cannot be instantiated. However, we can create classes that inherit from an abstract class."
   ]
  },
  {
   "cell_type": "markdown",
   "id": "ec4f8c11",
   "metadata": {},
   "source": [
    "To define an abstract class, we use the abc (abstract base class) module.\n",
    "\n",
    "example:"
   ]
  },
  {
   "cell_type": "code",
   "execution_count": 4,
   "id": "9dbedb46",
   "metadata": {},
   "outputs": [],
   "source": [
    "from abc import ABC\n",
    "\n",
    "\n",
    "class AbstractClassName(ABC):\n",
    "    pass"
   ]
  },
  {
   "cell_type": "markdown",
   "id": "655e0306",
   "metadata": {},
   "source": [
    "### Multiple Inheritance"
   ]
  },
  {
   "cell_type": "raw",
   "id": "414362cf",
   "metadata": {},
   "source": [
    "When a class inherits from multiple classes it is known as Multiple Inheritance."
   ]
  },
  {
   "cell_type": "code",
   "execution_count": 5,
   "id": "3af4296d",
   "metadata": {},
   "outputs": [
    {
     "name": "stdout",
     "output_type": "stream",
     "text": [
      "This is class A.\n",
      "This is class B.\n",
      "This is class C which inherits features of both classes A and B.\n"
     ]
    }
   ],
   "source": [
    "class A:\n",
    "    def A(self):\n",
    "        print('This is class A.')        \n",
    "class B:\n",
    "    def B(self):\n",
    "        print('This is class B.')        \n",
    "class C(A,B):\n",
    "    def C(self):\n",
    "        print('This is class C which inherits features of both classes A and B.')\n",
    "o = C()\n",
    "o.A()\n",
    "o.B()\n",
    "o.C()"
   ]
  },
  {
   "cell_type": "markdown",
   "id": "9d5c7e14",
   "metadata": {},
   "source": [
    "### Decorators"
   ]
  },
  {
   "cell_type": "markdown",
   "id": "8a5e95ec",
   "metadata": {},
   "source": [
    "Decorators are used to modify the behaviour of function or class. In Decorators, functions are taken as the argument into another function and then called inside the wrapper function."
   ]
  },
  {
   "cell_type": "code",
   "execution_count": 6,
   "id": "498d2e40",
   "metadata": {},
   "outputs": [
    {
     "name": "stdout",
     "output_type": "stream",
     "text": [
      "[4, 20, 10, 13]\n"
     ]
    }
   ],
   "source": [
    "\n",
    "def decorator_list(fnc):\n",
    "    def inner(list_of_tuples):\n",
    "        return [fnc(val[0], val[1]) for val in list_of_tuples]\n",
    "    return inner\n",
    "\n",
    "\n",
    "@decorator_list\n",
    "def add_together(a, b):\n",
    "    return a + b\n",
    "\n",
    "\n",
    "print(add_together([(1, 3), (3, 17), (5, 5), (6, 7)]))"
   ]
  },
  {
   "cell_type": "markdown",
   "id": "d425de2b",
   "metadata": {},
   "source": [
    "##### Example:\n",
    "Suppose that we need to develop a payroll program for a company.\n",
    "\n",
    "The company has two groups of employees: full-time employees and hourly employees. The full-time employees get a fixed salary while the hourly employees get paid by hourly wages for their services.\n",
    "\n",
    "The payroll program needs to print out a payroll that includes employee names and their monthly salaries.\n",
    "\n",
    "To model the payroll program in an object-oriented way, we may come up with the following classes: Employee, FulltimeEmployee, HourlyEmployee, and Payroll"
   ]
  },
  {
   "cell_type": "code",
   "execution_count": 9,
   "id": "e992b1fb",
   "metadata": {},
   "outputs": [
    {
     "name": "stdout",
     "output_type": "stream",
     "text": [
      "Anil Singh \t Rs. 6000\n",
      "Milan Patel \t Rs. 6500\n",
      "Jimmy Vaniya \t Rs. 10000\n",
      "Poonam Patil \t Rs. 15000\n",
      "Pooja jani \t Rs. 15000\n"
     ]
    }
   ],
   "source": [
    "from abc import ABC, abstractmethod\n",
    "\n",
    "#parent class\n",
    "class Employee(ABC):\n",
    "    def __init__(self, first_name, last_name):\n",
    "        self.first_name = first_name\n",
    "        self.last_name = last_name\n",
    "\n",
    "    @property          #proprty decorator\n",
    "    def full_name(self):\n",
    "        return f\"{self.first_name} {self.last_name}\"\n",
    "\n",
    "    @abstractmethod    #abstractmethod decorator\n",
    "    def get_salary(self):\n",
    "        pass\n",
    "    \n",
    "#child class1   \n",
    "class FulltimeEmployee(Employee):\n",
    "    def __init__(self, first_name, last_name, salary):\n",
    "        super().__init__(first_name, last_name)\n",
    "        self.salary = salary\n",
    "\n",
    "    def get_salary(self):\n",
    "        return self.salary\n",
    "\n",
    "#child class2\n",
    "class HourlyEmployee(Employee):\n",
    "    def __init__(self, first_name, last_name, worked_hours, rate):\n",
    "        super().__init__(first_name, last_name)\n",
    "        self.worked_hours = worked_hours\n",
    "        self.rate = rate\n",
    "\n",
    "    def get_salary(self):\n",
    "        return self.worked_hours * self.rate\n",
    "    \n",
    "class Payroll:\n",
    "    def __init__(self):\n",
    "        self.employee_list = []\n",
    "\n",
    "    def add(self, employee):\n",
    "        self.employee_list.append(employee)\n",
    "\n",
    "    def print(self):\n",
    "        for e in self.employee_list:\n",
    "            print(f\"{e.full_name} \\t Rs. {e.get_salary()}\")\n",
    "            \n",
    "payroll = Payroll()\n",
    "\n",
    "payroll.add(FulltimeEmployee('Anil', 'Singh', 6000))\n",
    "payroll.add(FulltimeEmployee('Milan', 'Patel', 6500))\n",
    "payroll.add(HourlyEmployee('Jimmy', 'Vaniya', 200, 50))\n",
    "payroll.add(HourlyEmployee('Poonam', 'Patil', 150, 100))\n",
    "payroll.add(HourlyEmployee('Pooja', 'jani', 100, 150))\n",
    "\n",
    "payroll.print()"
   ]
  },
  {
   "cell_type": "code",
   "execution_count": null,
   "id": "bd8f2f91",
   "metadata": {},
   "outputs": [],
   "source": []
  }
 ],
 "metadata": {
  "kernelspec": {
   "display_name": "Python 3",
   "language": "python",
   "name": "python3"
  },
  "language_info": {
   "codemirror_mode": {
    "name": "ipython",
    "version": 3
   },
   "file_extension": ".py",
   "mimetype": "text/x-python",
   "name": "python",
   "nbconvert_exporter": "python",
   "pygments_lexer": "ipython3",
   "version": "3.8.8"
  }
 },
 "nbformat": 4,
 "nbformat_minor": 5
}
